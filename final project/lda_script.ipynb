{
 "cells": [
  {
   "cell_type": "code",
   "execution_count": 2,
   "metadata": {
    "collapsed": true
   },
   "outputs": [],
   "source": [
    "import sys\n",
    "import numpy as np\n",
    "import lda\n",
    "import json\n",
    "import pandas as pd\n",
    "from collections import Counter, OrderedDict\n",
    "import nltk\n",
    "from nltk.corpus import stopwords\n",
    "from itertools import *\n",
    "\n",
    "from sklearn.feature_extraction.text import CountVectorizer\n",
    "\n",
    "class topic_analysis(object):\n",
    "\n",
    "    \"\"\"\n",
    "    A class to extract topics and associate all the verbatims with a specific topics\n",
    "    Input: dataframe, column_name with cleaned verbatims\n",
    "    Output: verbatims & topics, top keywords\n",
    "    \"\"\"\n",
    "\n",
    "    dataframe = None\n",
    "    vocab = None\n",
    "    model = None\n",
    "    vectorizer = None\n",
    "    topics = []\n",
    "\n",
    "    def __init__(self):\n",
    "        pass\n",
    "\n",
    "    def compute_lda_model(self,learning_set_lda,n_topics=10):\n",
    "        \"\"\"\n",
    "            Method to compute/generate LDA model\n",
    "        \"\"\"\n",
    "\n",
    "        # Initialize the \"CountVectorizer\" object\n",
    "        vectorizer = CountVectorizer(analyzer = \"word\",   \\\n",
    "                                     tokenizer = None,    \\\n",
    "                                     preprocessor = None, \\\n",
    "                                     stop_words = None,   \\\n",
    "                                     max_features = 5000)\n",
    "\n",
    "        train_data_features = vectorizer.fit_transform(learning_set_lda)\n",
    "\n",
    "        self.vectorizer = vectorizer\n",
    "\n",
    "        train_data_features = train_data_features.toarray()\n",
    "\n",
    "        self.vocab = vectorizer.get_feature_names()\n",
    "\n",
    "        X = train_data_features\n",
    "\n",
    "\n",
    "        model = lda.LDA(n_topics, n_iter=1500, random_state=1) \n",
    "        model.fit(X) \n",
    "\n",
    "        return model\n",
    "\n",
    "    def get_results(self,dataframe,column_name,n_topics):\n",
    "\n",
    "        self.dataframe = dataframe\n",
    "        self.topics = []\n",
    "        weights = []\n",
    "\n",
    "        #LDA Model calibration\n",
    "        model = self.compute_lda_model(self.dataframe[column_name],n_topics)\n",
    "\n",
    "        self.model = model\n",
    "\n",
    "        #Add topics to data frame\n",
    "        doc_topic = model.doc_topic_\n",
    "\n",
    "        topics = []\n",
    "        scores = []\n",
    "\n",
    "        for i in doc_topic:\n",
    "            topics.append(i.argmax())\n",
    "            scores.append(i.max())\n",
    "\n",
    "        self.dataframe['Topic_id'] = topics\n",
    "        self.dataframe['Score'] = scores\n",
    "\n",
    "        ###### PRINT RESULTS ######\n",
    "\n",
    "        topic_word = model.topic_word_ \n",
    "        n_top_words = 50 \n",
    "\n",
    "        #####Store results in topics\n",
    "        for i, topic_dist in enumerate(topic_word):\n",
    "            #Get the topic\n",
    "            topic_words = np.array(self.vocab)[np.argsort(topic_dist)][:-n_top_words:-1]\n",
    "            weights = ' '.join((topic_dist[np.argsort(topic_dist)][:-n_top_words:-1].astype('str')))\n",
    "            words = ' '.join(topic_words)\n",
    "            self.topics.append((i,words,weights))"
   ]
  },
  {
   "cell_type": "code",
   "execution_count": 1,
   "metadata": {},
   "outputs": [
    {
     "data": {
      "text/plain": [
       "'/Users/peiwen_0923/opt/anaconda3/lib/python3.9/site-packages/matplotlib/mpl-data/matplotlibrc'"
      ]
     },
     "execution_count": 1,
     "metadata": {},
     "output_type": "execute_result"
    }
   ],
   "source": [
    "import matplotlib\n",
    "matplotlib.matplotlib_fname()"
   ]
  },
  {
   "cell_type": "code",
   "execution_count": null,
   "metadata": {},
   "outputs": [],
   "source": []
  }
 ],
 "metadata": {
  "kernelspec": {
   "display_name": "Python 3 (ipykernel)",
   "language": "python",
   "name": "python3"
  },
  "language_info": {
   "codemirror_mode": {
    "name": "ipython",
    "version": 3
   },
   "file_extension": ".py",
   "mimetype": "text/x-python",
   "name": "python",
   "nbconvert_exporter": "python",
   "pygments_lexer": "ipython3",
   "version": "3.9.7"
  }
 },
 "nbformat": 4,
 "nbformat_minor": 2
}
